{
  "nbformat": 4,
  "nbformat_minor": 0,
  "metadata": {
    "colab": {
      "name": "Assignment Day 4.ipynb",
      "provenance": []
    },
    "kernelspec": {
      "name": "python3",
      "display_name": "Python 3"
    },
    "language_info": {
      "name": "python"
    }
  },
  "cells": [
    {
      "cell_type": "code",
      "execution_count": 1,
      "metadata": {
        "id": "_1fS__Q1hsiY"
      },
      "outputs": [],
      "source": [
        "import numpy as np"
      ]
    },
    {
      "cell_type": "markdown",
      "source": [
        "Define a 3-D Array in Numpy and print each and every item"
      ],
      "metadata": {
        "id": "ypRskOXWm_Pb"
      }
    },
    {
      "cell_type": "code",
      "source": [
        "a = [[[1,2,3],[4,5,6]],[[7,8,9],[10,11,12]]]\n",
        "for i in a:\n",
        "  for j in i:\n",
        "    for k in j:\n",
        "      print(k)\n"
      ],
      "metadata": {
        "colab": {
          "base_uri": "https://localhost:8080/"
        },
        "id": "MMurYiUkiQ3L",
        "outputId": "f2af1d8c-3cf4-4997-f866-d13c182eb621"
      },
      "execution_count": 13,
      "outputs": [
        {
          "output_type": "stream",
          "name": "stdout",
          "text": [
            "1\n",
            "2\n",
            "3\n",
            "4\n",
            "5\n",
            "6\n",
            "7\n",
            "8\n",
            "9\n",
            "10\n",
            "11\n",
            "12\n"
          ]
        }
      ]
    }
  ]
}